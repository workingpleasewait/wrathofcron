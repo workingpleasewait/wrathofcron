{
 "cells": [
  {
   "cell_type": "markdown",
   "metadata": {},
   "source": [
    "# BBS and Trading Toolkit Examples\n",
    "\n",
    "This notebook demonstrates the basic usage of the BBS (Bulletin Board System) and Coinbase Trading Toolkit.\n",
    "\n",
    "## Table of Contents\n",
    "1. [BBS Basic Operations](#bbs-basic-operations)\n",
    "2. [BBS Python API Examples](#bbs-python-api)\n",
    "3. [Trading Toolkit Examples](#trading-examples)\n",
    "4. [AI Agent Coordination Patterns](#ai-coordination)\n"
   ]
  },
  {
   "cell_type": "markdown",
   "metadata": {},
   "source": [
    "## BBS Basic Operations\n",
    "\n",
    "Let's start by importing the necessary modules and setting up the BBS system."
   ]
  },
  {
   "cell_type": "code",
   "execution_count": null,
   "metadata": {},
   "outputs": [],
   "source": [
    "# Import BBS modules\n",
    "import sys\n",
    "import os\n",
    "\n",
    "# Add the project root to Python path\n",
    "sys.path.append('..')\n",
    "\n",
    "from bulletin_board import core\n",
    "from bulletin_board.models import Message\n",
    "from datetime import datetime"
   ]
  },
  {
   "cell_type": "code",
   "execution_count": null,
   "metadata": {},
   "outputs": [],
   "source": [
    "# Post a message to the bulletin board\n",
    "core.post(\n",
    "    message=\"System initialized successfully\",\n",
    "    subject=\"Startup Notification\",\n",
    "    author=\"notebook-agent\"\n",
    ")\n",
    "\n",
    "print(\"Message posted successfully!\")"
   ]
  },
  {
   "cell_type": "code",
   "execution_count": null,
   "metadata": {},
   "outputs": [],
   "source": [
    "# Read recent messages\n",
    "print(\"Recent messages:\")\n",
    "recent_messages = core.tail(n=5)\n",
    "\n",
    "for msg in recent_messages:\n",
    "    print(f\"[{msg.timestamp.strftime('%H:%M:%S')}] {msg.author}: {msg.subject}\")\n",
    "    print(f\"  {msg.message}\")\n",
    "    print(\"---\")"
   ]
  },
  {
   "cell_type": "markdown",
   "metadata": {},
   "source": [
    "## BBS Python API Examples\n",
    "\n",
    "Here are more advanced examples of using the BBS Python API for agent coordination."
   ]
  },
  {
   "cell_type": "code",
   "execution_count": null,
   "metadata": {},
   "outputs": [],
   "source": [
    "# Example: Task Queue Pattern\n",
    "def post_task(task_id, task_type, task_data, priority=\"normal\"):\n",
    "    \"\"\"Post a task to the queue for other agents to pick up.\"\"\"\n",
    "    task_message = f\"Task ID: {task_id}, Type: {task_type}, Priority: {priority}\"\n",
    "    task_details = f\"Data: {task_data}\"\n",
    "    \n",
    "    core.post(\n",
    "        message=f\"{task_message}\\n{task_details}\",\n",
    "        subject=f\"TASK:{task_type}\"\n",
    "    )\n",
    "    \n",
    "def post_status_update(agent_id, status, details=\"\"):\n",
    "    \"\"\"Post agent status update.\"\"\"\n",
    "    core.post(\n",
    "        message=f\"Agent {agent_id} status: {status}. {details}\",\n",
    "        subject=f\"STATUS:{agent_id}\",\n",
    "        author=agent_id\n",
    "    )\n",
    "\n",
    "# Example usage\n",
    "post_task(\"001\", \"data_analysis\", \"Process BTC price data\", \"high\")\n",
    "post_status_update(\"agent-analyzer\", \"busy\", \"Processing task 001\")"
   ]
  },
  {
   "cell_type": "code",
   "execution_count": null,
   "metadata": {},
   "outputs": [],
   "source": [
    "# Example: Message Filtering and Search\n",
    "from datetime import datetime, timedelta\n",
    "\n",
    "# Get tasks posted in last hour\n",
    "one_hour_ago = datetime.now() - timedelta(hours=1)\n",
    "recent_tasks = core.read(since=one_hour_ago)\n",
    "\n",
    "task_messages = [msg for msg in recent_tasks if msg.subject.startswith('TASK:')]\n",
    "\n",
    "print(f\"Found {len(task_messages)} tasks in the last hour:\")\n",
    "for task in task_messages:\n",
    "    print(f\"- {task.subject}: {task.message[:50]}...\")\n",
    "\n",
    "# Get status updates\n",
    "status_messages = [msg for msg in recent_tasks if msg.subject.startswith('STATUS:')]\n",
    "print(f\"\\nFound {len(status_messages)} status updates:\")\n",
    "for status in status_messages:\n",
    "    print(f\"- {status.subject}: {status.message}\")"
   ]
  },
  {
   "cell_type": "markdown",
   "metadata": {},
   "source": [
    "## Trading Toolkit Examples\n",
    "\n",
    "Demonstrate basic trading operations (requires API credentials)."
   ]
  },
  {
   "cell_type": "code",
   "execution_count": null,
   "metadata": {},
   "outputs": [],
   "source": [
    "# Check if we can access the trading scripts\n",
    "import subprocess\n",
    "import json\n",
    "\n",
    "try:\n",
    "    # Try to get account balances (safe operation)\n",
    "    result = subprocess.run([\n",
    "        'python3', '../scripts/account_balances.py', '--json'\n",
    "    ], capture_output=True, text=True, check=True)\n",
    "    \n",
    "    balances = json.loads(result.stdout)\n",
    "    print(\"Account balances retrieved successfully!\")\n",
    "    print(f\"Found {len(balances)} accounts with balances\")\n",
    "    \n",
    "except subprocess.CalledProcessError as e:\n",
    "    print(f\"Could not retrieve balances: {e}\")\n",
    "    print(\"Make sure API credentials are configured\")\n",
    "except FileNotFoundError:\n",
    "    print(\"Trading scripts not found - make sure you're in the right directory\")"
   ]
  },
  {
   "cell_type": "code",
   "execution_count": null,
   "metadata": {},
   "outputs": [],
   "source": [
    "# Demo the ladder tools (safe - no actual trading)\n",
    "try:\n",
    "    result = subprocess.run([\n",
    "        'python3', '../scripts/demo_ladder_tools.py', '--quick'\n",
    "    ], capture_output=True, text=True, check=True)\n",
    "    \n",
    "    print(\"Ladder tools demo output:\")\n",
    "    print(result.stdout)\n",
    "    \n",
    "except subprocess.CalledProcessError as e:\n",
    "    print(f\"Demo failed: {e}\")\n",
    "    print(result.stderr if 'result' in locals() else \"No error details\")\n",
    "except FileNotFoundError:\n",
    "    print(\"Demo script not found\")"
   ]
  },
  {
   "cell_type": "markdown",
   "metadata": {},
   "source": [
    "## AI Agent Coordination Patterns\n",
    "\n",
    "Best practices for coordinating multiple AI agents using the BBS system."
   ]
  },
  {
   "cell_type": "code",
   "execution_count": null,
   "metadata": {},
   "outputs": [],
   "source": [
    "# Pattern 1: Distributed Task Processing\n",
    "class TaskCoordinator:\n",
    "    def __init__(self, agent_id):\n",
    "        self.agent_id = agent_id\n",
    "    \n",
    "    def claim_task(self, task_id):\n",
    "        \"\"\"Claim a task by posting a claim message\"\"\"\n",
    "        core.post(\n",
    "            message=f\"Agent {self.agent_id} claiming task {task_id}\",\n",
    "            subject=f\"CLAIM:{task_id}\",\n",
    "            author=self.agent_id\n",
    "        )\n",
    "    \n",
    "    def complete_task(self, task_id, result):\n",
    "        \"\"\"Mark task as completed with results\"\"\"\n",
    "        core.post(\n",
    "            message=f\"Task {task_id} completed. Result: {result}\",\n",
    "            subject=f\"COMPLETE:{task_id}\",\n",
    "            author=self.agent_id\n",
    "        )\n",
    "    \n",
    "    def report_error(self, task_id, error):\n",
    "        \"\"\"Report task error\"\"\"\n",
    "        core.post(\n",
    "            message=f\"Task {task_id} failed. Error: {error}\",\n",
    "            subject=f\"ERROR:{task_id}\",\n",
    "            author=self.agent_id\n",
    "        )\n",
    "\n",
    "# Example usage\n",
    "coordinator = TaskCoordinator(\"agent-worker-1\")\n",
    "coordinator.claim_task(\"001\")\n",
    "coordinator.complete_task(\"001\", \"Analysis completed: BTC trend is bullish\")"
   ]
  },
  {
   "cell_type": "code",
   "execution_count": null,
   "metadata": {},
   "outputs": [],
   "source": [
    "# Pattern 2: Heartbeat and Health Monitoring\n",
    "class HealthMonitor:\n",
    "    def __init__(self, agent_id):\n",
    "        self.agent_id = agent_id\n",
    "        self.last_heartbeat = datetime.now()\n",
    "    \n",
    "    def send_heartbeat(self, status_info=None):\n",
    "        \"\"\"Send heartbeat signal\"\"\"\n",
    "        info = status_info or \"healthy\"\n",
    "        core.post(\n",
    "            message=f\"Heartbeat from {self.agent_id}: {info}\",\n",
    "            subject=f\"HEARTBEAT:{self.agent_id}\",\n",
    "            author=self.agent_id\n",
    "        )\n",
    "        self.last_heartbeat = datetime.now()\n",
    "    \n",
    "    def check_agent_health(self, max_silence_minutes=5):\n",
    "        \"\"\"Check if other agents are healthy based on heartbeats\"\"\"\n",
    "        cutoff_time = datetime.now() - timedelta(minutes=max_silence_minutes)\n",
    "        recent_heartbeats = core.read(since=cutoff_time)\n",
    "        \n",
    "        agents_seen = set()\n",
    "        for msg in recent_heartbeats:\n",
    "            if msg.subject.startswith('HEARTBEAT:'):\n",
    "                agent_id = msg.subject.split(':')[1]\n",
    "                agents_seen.add(agent_id)\n",
    "        \n",
    "        return list(agents_seen)\n",
    "\n",
    "# Example usage\n",
    "health_monitor = HealthMonitor(\"health-checker\")\n",
    "health_monitor.send_heartbeat(\"CPU: 45%, Memory: 2.1GB\")\n",
    "\n",
    "active_agents = health_monitor.check_agent_health()\n",
    "print(f\"Active agents in last 5 minutes: {active_agents}\")"
   ]
  },
  {
   "cell_type": "code",
   "execution_count": null,
   "metadata": {},
   "outputs": [],
   "source": [
    "# Pattern 3: Configuration and Coordination Messages\n",
    "class ConfigManager:\n",
    "    def __init__(self, agent_id):\n",
    "        self.agent_id = agent_id\n",
    "    \n",
    "    def broadcast_config_update(self, config_key, config_value):\n",
    "        \"\"\"Broadcast configuration update to all agents\"\"\"\n",
    "        core.post(\n",
    "            message=f\"Config update: {config_key} = {config_value}\",\n",
    "            subject=f\"CONFIG:UPDATE\",\n",
    "            author=self.agent_id\n",
    "        )\n",
    "    \n",
    "    def request_pause(self, reason):\n",
    "        \"\"\"Request all agents to pause operations\"\"\"\n",
    "        core.post(\n",
    "            message=f\"PAUSE requested by {self.agent_id}. Reason: {reason}\",\n",
    "            subject=\"CONTROL:PAUSE\",\n",
    "            author=self.agent_id\n",
    "        )\n",
    "    \n",
    "    def request_resume(self):\n",
    "        \"\"\"Request all agents to resume operations\"\"\"\n",
    "        core.post(\n",
    "            message=f\"RESUME requested by {self.agent_id}\",\n",
    "            subject=\"CONTROL:RESUME\",\n",
    "            author=self.agent_id\n",
    "        )\n",
    "\n",
    "# Example usage\n",
    "config_mgr = ConfigManager(\"config-manager\")\n",
    "config_mgr.broadcast_config_update(\"max_trade_amount\", \"$1000\")\n",
    "config_mgr.request_pause(\"Market volatility detected\")\n",
    "\n",
    "print(\"Configuration and control messages sent\")"
   ]
  },
  {
   "cell_type": "markdown",
   "metadata": {},
   "source": [
    "## Summary\n",
    "\n",
    "This notebook demonstrates:\n",
    "\n",
    "1. **Basic BBS operations** - posting and reading messages\n",
    "2. **Python API usage** - programmatic access to the bulletin board\n",
    "3. **Trading integration** - safe demo of trading tools\n",
    "4. **AI coordination patterns** - task queues, health monitoring, configuration management\n",
    "\n",
    "### Key Patterns for AI Agent Coordination:\n",
    "\n",
    "- **Task Queue**: Use `TASK:` prefix for job posting, `CLAIM:` for claiming, `COMPLETE:` for results\n",
    "- **Status Updates**: Use `STATUS:` prefix for agent state, `HEARTBEAT:` for health checks\n",
    "- **Control Messages**: Use `CONTROL:` prefix for system-wide commands\n",
    "- **Configuration**: Use `CONFIG:` prefix for setting updates\n",
    "\n",
    "These patterns enable robust multi-agent coordination with the BBS as a message bus."
   ]
  }
 ],
 "metadata": {
  "kernelspec": {
   "display_name": "Python 3",
   "language": "python",
   "name": "python3"
  },
  "language_info": {
   "codemirror_mode": {
    "name": "ipython",
    "version": 3
   },
   "file_extension": ".py",
   "mimetype": "text/x-python",
   "name": "python",
   "nbconvert_exporter": "python",
   "pygments_lexer": "ipython3",
   "version": "3.8.0"
  }
 },
 "nbformat": 4,
 "nbformat_minor": 4
}
